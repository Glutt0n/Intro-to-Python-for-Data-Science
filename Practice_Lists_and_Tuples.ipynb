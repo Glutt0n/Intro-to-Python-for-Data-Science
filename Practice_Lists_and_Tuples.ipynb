{
  "cells": [
    {
      "attachments": {},
      "cell_type": "markdown",
      "metadata": {
        "colab_type": "text",
        "id": "view-in-github"
      },
      "source": [
        "<a href=\"https://colab.research.google.com/github/coding-dojo-data-science/ds-fundamentals-notebooks/blob/main/Practice_Lists_and_Tuples.ipynb\" target=\"_parent\"><img src=\"https://colab.research.google.com/assets/colab-badge.svg\" alt=\"Open In Colab\"/></a>"
      ]
    },
    {
      "attachments": {},
      "cell_type": "markdown",
      "metadata": {
        "id": "eyLJH2OFOtxy"
      },
      "source": [
        "# Lists and Tuples"
      ]
    },
    {
      "attachments": {},
      "cell_type": "markdown",
      "metadata": {
        "id": "vmBZ_iwwSVk5"
      },
      "source": [
        "# Lists\n",
        "\n",
        "## Turtle Racing\n",
        "\n",
        "Longville, MN holds turtle races each summer.  Prizes are given out for the fastest and slowest turtles.\n"
      ]
    },
    {
      "attachments": {},
      "cell_type": "markdown",
      "metadata": {
        "id": "qDWKi2akmXMC"
      },
      "source": [
        "## 1. Create a list\n",
        "Let's make a list of turtles in the order that they crossed the finish line. Remember, lists are surrounded by square brackets [ ]. "
      ]
    },
    {
      "cell_type": "code",
      "execution_count": 1,
      "metadata": {
        "id": "MrOFfEu7fdJ8"
      },
      "outputs": [],
      "source": [
        "# Make a list of the first turtles to finish\n",
        "# Run this code without making any changes\n",
        "race_finishers = ['Speedy', 'Sparkles', 'Little Foot', 'Spike', 'Greg the Destroyer']"
      ]
    },
    {
      "cell_type": "code",
      "execution_count": 2,
      "metadata": {
        "id": "f70T3EFNf89v"
      },
      "outputs": [
        {
          "name": "stdout",
          "output_type": "stream",
          "text": [
            "['Speedy', 'Sparkles', 'Little Foot', 'Spike', 'Greg the Destroyer']\n"
          ]
        }
      ],
      "source": [
        "# print the list\n",
        "print(race_finishers)"
      ]
    },
    {
      "attachments": {},
      "cell_type": "markdown",
      "metadata": {
        "id": "pduxD3-JgE7e"
      },
      "source": [
        "##2. Append an item to a list\n",
        "Finally! The final turtle named Slowpoke just finished so add them to the list using .append()\n"
      ]
    },
    {
      "cell_type": "code",
      "execution_count": 3,
      "metadata": {
        "id": "vWuWd4w_gEE8"
      },
      "outputs": [],
      "source": [
        "# Append 'Slowpoke' to the list\n",
        "race_finishers.append('Slowpoke')"
      ]
    },
    {
      "attachments": {},
      "cell_type": "markdown",
      "metadata": {
        "id": "fYXNbbgIXK4I"
      },
      "source": [
        "## 3. Use indexing with a list\n",
        "\n",
        "\n",
        "Indices in Python start counting from 0.  In the following cell, use list indexing to print the first place winner of the race.  The owner of that turtle will get a coupon for a free ice cream cone!\n",
        "\n",
        "Remember that you can index into a collection using brackets, like `collection[3]`.  Use this syntax to print the first racer in the `race_finishers` list."
      ]
    },
    {
      "attachments": {},
      "cell_type": "markdown",
      "metadata": {
        "id": "mYd1qAVYAFV0"
      },
      "source": [
        "| Index           |   0    |    1     |     2       |   3   |         4          |    5     |\n",
        "|-----------------|--------|----------|-------------|-------|--------------------|----------|\n",
        "| race_winners =  | Speedy | Sparkles | Little Foot | Spike | Greg the Destroyer | Slowpoke |\n",
        "| Negative Index  |    -6    |    -5     |     -4       |    -3   |       -2          |     -1     |"
      ]
    },
    {
      "cell_type": "code",
      "execution_count": 4,
      "metadata": {
        "id": "BwbiUhpeW-_m"
      },
      "outputs": [
        {
          "name": "stdout",
          "output_type": "stream",
          "text": [
            "Speedy\n"
          ]
        }
      ],
      "source": [
        "# Print the first place finisher at index position 0\n",
        "print(race_finishers[0])"
      ]
    },
    {
      "attachments": {},
      "cell_type": "markdown",
      "metadata": {
        "id": "vKxzHXKgXcwa"
      },
      "source": [
        "## 4. Use negative indexing with a list\n",
        "\n",
        "The owner of the slowest turtle will get a coupon for a free chocolate bar!  Remember that negative index numbers count backward from the end of the list. `collection[-3]` would return the 3rd from the last item from a collection.\n",
        "\n",
        "* Use negative indexing to print the last place racer in the `race_finishers` list.  "
      ]
    },
    {
      "cell_type": "code",
      "execution_count": 5,
      "metadata": {
        "id": "Q55nDWS-XGI3"
      },
      "outputs": [
        {
          "name": "stdout",
          "output_type": "stream",
          "text": [
            "Slowpoke\n"
          ]
        }
      ],
      "source": [
        "# Print the last place finisher at index position -1\n",
        "print(race_finishers[-1])"
      ]
    },
    {
      "attachments": {},
      "cell_type": "markdown",
      "metadata": {
        "id": "tNXGnzlln5ms"
      },
      "source": [
        "## 5. Edit an item in a list\n",
        "\n",
        "We just found out that we got the name of the second place turtle wrong.  We wrote 'Sparkles' when it's name is actually 'Sparkly'  We can use indexing to change the second value in a list because lists are both ordered and mutable.  Remember the second value is race_finishers[1]"
      ]
    },
    {
      "cell_type": "code",
      "execution_count": 6,
      "metadata": {
        "id": "vJ5pc8yboQXy"
      },
      "outputs": [
        {
          "name": "stdout",
          "output_type": "stream",
          "text": [
            "['Speedy', 'Sparkly', 'Little Foot', 'Spike', 'Greg the Destroyer', 'Slowpoke']\n"
          ]
        }
      ],
      "source": [
        "# Change the name at index 2 to 'Sparkly'\n",
        "race_finishers[1]='Sparkly'\n",
        "\n",
        "# Print the updated list\n",
        "print(race_finishers)"
      ]
    },
    {
      "attachments": {},
      "cell_type": "markdown",
      "metadata": {
        "id": "9hfl06OahviT"
      },
      "source": [
        "## 6. Remove an item from a list\n",
        "Oh no, it turns out Little Foot was disqaulified.  Use .remove() to remove him from the list."
      ]
    },
    {
      "cell_type": "code",
      "execution_count": 7,
      "metadata": {
        "id": "LrXVYgvmhnrg"
      },
      "outputs": [
        {
          "name": "stdout",
          "output_type": "stream",
          "text": [
            "['Speedy', 'Sparkly', 'Spike', 'Greg the Destroyer', 'Slowpoke']\n"
          ]
        }
      ],
      "source": [
        "# Remove Little Foot from the list\n",
        "race_finishers.remove('Little Foot')\n",
        "\n",
        "# Print the updated list\n",
        "print(race_finishers)"
      ]
    },
    {
      "attachments": {},
      "cell_type": "markdown",
      "metadata": {
        "id": "FRo3qcAlcI4v"
      },
      "source": [
        "# Tuples"
      ]
    },
    {
      "attachments": {},
      "cell_type": "markdown",
      "metadata": {
        "id": "ltbPs3qRlLdL"
      },
      "source": [
        "## Costume Shop Resupply\n",
        "\n",
        "A costume shop is ordering merchandise to replenish their stock.  Some items sell out very quickly and others are not as popular.  The shop keep track of how many of each item sells and makes tuple of items in order of most popular to least popular.\n",
        "\n"
      ]
    },
    {
      "attachments": {},
      "cell_type": "markdown",
      "metadata": {
        "id": "OACRkwy7nqOK"
      },
      "source": [
        "## 7. Create a Tuple\n",
        "\n",
        "Remember tuples are surrounded by parenthesis. ()"
      ]
    },
    {
      "cell_type": "code",
      "execution_count": 8,
      "metadata": {
        "id": "cG5zzDadbxLW"
      },
      "outputs": [],
      "source": [
        "# Create a tuple of costume merchandise\n",
        "# Run this code cell without making any changes\n",
        "merchandise = ('Fangs', 'Tutus', 'Clown Noses', 'Scrubs', 'Cowboy Hats', 'Face Paint', 'Plastic Swords')"
      ]
    },
    {
      "attachments": {},
      "cell_type": "markdown",
      "metadata": {
        "id": "pxIvijkBCjtE"
      },
      "source": [
        "| Index          |   0   |    1  |     2       |   3    |         4   |    5       | 6              |\n",
        "|----------------|-------|-------|-------------|--------|-------------|------------|----------------|\n",
        "| merchandise =  | Fangs | Tutus | Clown Noses | Scrubs | Cowboy Hats | Face Paint | Plastic Swords |\n",
        "| Negative Index | -7    |   -6  |    -5       | -4     | -3          | -2         | -1             |"
      ]
    },
    {
      "attachments": {},
      "cell_type": "markdown",
      "metadata": {
        "id": "ewWVDhvAnjKs"
      },
      "source": [
        "## 8. Slicing from the start of a tuple\n",
        "\n",
        "The shop wants to order plenty of their top 3 best sellers to make sure they keep them in stock.\n",
        "\n",
        "Slice into the `merchandise` tuple to return the first 3 elements of the tuple.  Remember:\n",
        "1. If there is no value before the colon the slice will begin at the beginning of the tuple (or list).  For example [0:3] can also be written as [:3]\n",
        "2. A slice **excludes** the index position after the colon."
      ]
    },
    {
      "cell_type": "code",
      "execution_count": 9,
      "metadata": {
        "id": "yiod1kLwnhzc"
      },
      "outputs": [
        {
          "name": "stdout",
          "output_type": "stream",
          "text": [
            "('Fangs', 'Tutus', 'Clown Noses')\n"
          ]
        }
      ],
      "source": [
        "# define a variable called top_3 that includes only the first 3 objects in the merchandise tuple\n",
        "top_3=merchandise[:3]\n",
        "\n",
        "# print top_3\n",
        "print(top_3)"
      ]
    },
    {
      "attachments": {},
      "cell_type": "markdown",
      "metadata": {
        "id": "hEE2tRbho7lW"
      },
      "source": [
        "## 8. Slicing from the end of a tuple\n",
        "\n",
        "The shop wants to discontinue the two least popular items in the list.  \n",
        "\n",
        "* Slice into the `merchandise` tuple and return the last two elements.  Remember: \n",
        "  1. You can use negative indexing to count backward from the end of a collection\n",
        "  2. When you want to slice everything after a certain point in a collection, put the starting point before the colon and don't put anything after the colon."
      ]
    },
    {
      "cell_type": "code",
      "execution_count": 10,
      "metadata": {
        "id": "Eu76Efzgos60"
      },
      "outputs": [
        {
          "name": "stdout",
          "output_type": "stream",
          "text": [
            "('Face Paint', 'Plastic Swords')\n"
          ]
        }
      ],
      "source": [
        "# Define a variable called last_2 that inclues only the last two elements of the tuple.\n",
        "last_2=merchandise[-2:]\n",
        "\n",
        "# Print last_2\n",
        "print(last_2)"
      ]
    },
    {
      "attachments": {},
      "cell_type": "markdown",
      "metadata": {
        "id": "YdG4i71fqkdL"
      },
      "source": [
        "## 9. Slicing items from the middle of a tuple\n",
        "\n",
        ". Reminders:\n",
        "\n",
        "1. A slice **includes** the index before the colon.\n",
        "2. A slice **excludes** the index after the colon.\n",
        "3. Python indexing starts at 0, so the second item is at index 1."
      ]
    },
    {
      "cell_type": "code",
      "execution_count": 11,
      "metadata": {
        "id": "AVJUOWndqHJT"
      },
      "outputs": [
        {
          "name": "stdout",
          "output_type": "stream",
          "text": [
            "('Tutus', 'Clown Noses')\n"
          ]
        }
      ],
      "source": [
        "# Slice out the 2nd and 3rd items from the tuple\n",
        "\n",
        "\n",
        "# Print the result\n",
        "print(merchandise[1:3])"
      ]
    },
    {
      "attachments": {},
      "cell_type": "markdown",
      "metadata": {
        "id": "NRs5Kl0JreEz"
      },
      "source": [
        "## Reminder: Tuples are immutable\n",
        "\n",
        "Our supplier has changed 'Cowboy Hats' to 'Cowpoke Hats'.  Can we change this in our tuple?\n",
        "\n",
        "NO! Tuples are immutable meaning they cannot be changed or updated.\n"
      ]
    }
  ],
  "metadata": {
    "colab": {
      "include_colab_link": true,
      "provenance": []
    },
    "kernelspec": {
      "display_name": "Python 3",
      "name": "python3"
    },
    "language_info": {
      "codemirror_mode": {
        "name": "ipython",
        "version": 3
      },
      "file_extension": ".py",
      "mimetype": "text/x-python",
      "name": "python",
      "nbconvert_exporter": "python",
      "pygments_lexer": "ipython3",
      "version": "3.9.15"
    }
  },
  "nbformat": 4,
  "nbformat_minor": 0
}
