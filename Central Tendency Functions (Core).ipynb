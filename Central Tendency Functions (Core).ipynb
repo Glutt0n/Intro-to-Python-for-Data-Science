{
 "cells": [
  {
   "cell_type": "code",
   "execution_count": 33,
   "metadata": {},
   "outputs": [],
   "source": [
    "# Imports\n",
    "import numpy as np\n",
    "from statistics import mode"
   ]
  },
  {
   "cell_type": "code",
   "execution_count": 34,
   "metadata": {},
   "outputs": [],
   "source": [
    "# Lists of Fahrenheit temps:\n",
    "week_1 = [45, 55, 49, 60, 52, 55, 58]\n",
    "week_2 = [51, 49, 62, 50, 53, 56, 59]\n",
    "week_3 = [60, 60, 61, 62, 57, 59, 58]\n",
    "week_4 = [59, 63, 62, 61, 65, 66, 62]"
   ]
  },
  {
   "cell_type": "code",
   "execution_count": 35,
   "metadata": {},
   "outputs": [
    {
     "data": {
      "text/plain": [
       "53.42857142857143"
      ]
     },
     "execution_count": 35,
     "metadata": {},
     "output_type": "execute_result"
    }
   ],
   "source": [
    "# Use functions from the imported packages to find the mean, median, and mode for the week_1 data\n",
    "week_1_mean=np.mean(week_1)\n",
    "week_1_mean"
   ]
  },
  {
   "attachments": {},
   "cell_type": "markdown",
   "metadata": {},
   "source": [
    "Now, rather than having to call each of these functions separately to get the three measures of central tendency, write a custom function to return all three values in a single function call:\n",
    "\n",
    "Name the function \"central_tendency\" and start with a single positional argument that accepts the list of temperatures.\n",
    "Define three variables as mean_temp, median_temp, and mode_temp using the existing functions from NumPy and the statistics module.\n",
    "Add a return statement to return all three variables."
   ]
  },
  {
   "cell_type": "code",
   "execution_count": 36,
   "metadata": {},
   "outputs": [
    {
     "data": {
      "text/plain": [
       "(53.43, 55.0, 55)"
      ]
     },
     "execution_count": 36,
     "metadata": {},
     "output_type": "execute_result"
    }
   ],
   "source": [
    "def central_tendency(temp_list):\n",
    "    mean_temp=round(np.mean(temp_list),2)\n",
    "    median_temp=np.median(temp_list)\n",
    "    mode_temp=mode(temp_list)\n",
    "    return mean_temp, median_temp, mode_temp\n",
    "# test it on week 1 data\n",
    "central_tendency(week_1)"
   ]
  },
  {
   "attachments": {},
   "cell_type": "markdown",
   "metadata": {},
   "source": [
    "Create a modified version of the central_tendency function to include a keyword argument with the default set to verbose = True\n",
    "\n",
    "Add conditional statements within the function so that if verbose = True, the function will print:\n",
    "\n",
    "The mean is ___.\n",
    "\n",
    "The median is ___.\n",
    "\n",
    "The mode is ___."
   ]
  },
  {
   "cell_type": "code",
   "execution_count": 37,
   "metadata": {},
   "outputs": [],
   "source": [
    "def central_tendency(temp_list,verbose=True):\n",
    "    mean_temp=round(np.mean(temp_list),2)\n",
    "    median_temp=np.median(temp_list)\n",
    "    mode_temp=mode(temp_list)\n",
    "    if verbose==True:\n",
    "        print(f'The mean is {mean_temp}.\\nThe median is {median_temp}.\\nThe mode is {mode_temp}.')\n",
    "    else:\n",
    "        return mean_temp,median_temp,mode_temp"
   ]
  },
  {
   "attachments": {},
   "cell_type": "markdown",
   "metadata": {},
   "source": [
    "Test the function by calling it on week_2, using the function you created in task 7.\n",
    "\n",
    "Note: you are not rewriting the function; you are calling the function with different arguments.\n",
    "\n",
    "With \"verbose = True\" included as the second argument in the function call.\n",
    "With no argument for verbose included in the functional call (to test the default).\n",
    "With \"verbose = False\" included as the second argument in the function call."
   ]
  },
  {
   "cell_type": "code",
   "execution_count": 38,
   "metadata": {},
   "outputs": [
    {
     "name": "stdout",
     "output_type": "stream",
     "text": [
      "The mean is 54.29.\n",
      "The median is 53.0.\n",
      "The mode is 51.\n",
      "The mean is 54.29.\n",
      "The median is 53.0.\n",
      "The mode is 51.\n"
     ]
    },
    {
     "data": {
      "text/plain": [
       "(54.29, 53.0, 51)"
      ]
     },
     "execution_count": 38,
     "metadata": {},
     "output_type": "execute_result"
    }
   ],
   "source": [
    "central_tendency(week_2,verbose=True)\n",
    "central_tendency(week_2)\n",
    "central_tendency(week_2,verbose=False)"
   ]
  }
 ],
 "metadata": {
  "kernelspec": {
   "display_name": "dojo-env",
   "language": "python",
   "name": "python3"
  },
  "language_info": {
   "codemirror_mode": {
    "name": "ipython",
    "version": 3
   },
   "file_extension": ".py",
   "mimetype": "text/x-python",
   "name": "python",
   "nbconvert_exporter": "python",
   "pygments_lexer": "ipython3",
   "version": "3.9.15"
  },
  "orig_nbformat": 4
 },
 "nbformat": 4,
 "nbformat_minor": 2
}
